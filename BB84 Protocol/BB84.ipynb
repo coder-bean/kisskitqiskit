{
 "cells": [
  {
   "cell_type": "code",
   "execution_count": 33,
   "id": "5c0a5091-883a-4ca2-b61b-0ee85f329bf3",
   "metadata": {},
   "outputs": [],
   "source": [
    "from qiskit import QuantumCircuit, execute, Aer\n",
    "from qiskit.visualization import plot_histogram\n",
    "import numpy as np"
   ]
  },
  {
   "cell_type": "code",
   "execution_count": 34,
   "id": "0a835159-c24f-4d82-9732-89ad10afd272",
   "metadata": {},
   "outputs": [],
   "source": [
    "#prepares the initial quantum states for the BB84 protocol by generating a list of quantum states and their associated bases. \n",
    "def prepare_bb84_states(num_qubits):\n",
    "    states = []\n",
    "    bases = []\n",
    "    for _ in range(num_qubits):\n",
    "        state, basis = generate_bb84_state()\n",
    "        states.append(state)\n",
    "        bases.append(basis)\n",
    "    return states, bases"
   ]
  },
  {
   "cell_type": "code",
   "execution_count": 35,
   "id": "9b76cb42-a1fa-4e79-8495-bb5cbafb5f1f",
   "metadata": {},
   "outputs": [],
   "source": [
    "#generates a single BB84 quantum state and its associated measurement basis.\n",
    "def generate_bb84_state():\n",
    "    basis = np.random.randint(2)  # 0 for rectilinear basis, 1 for diagonal basis\n",
    "    if np.random.rand() < 0.5:\n",
    "        state = QuantumCircuit(1, 1)\n",
    "        if basis == 0:\n",
    "            state.h(0)\n",
    "        else:\n",
    "            state.s(0)\n",
    "            state.h(0)\n",
    "    else:\n",
    "        state = QuantumCircuit(1, 1)\n",
    "        if basis == 0:\n",
    "            state.x(0)\n",
    "            state.h(0)\n",
    "        else:\n",
    "            state.x(0)\n",
    "            state.s(0)\n",
    "            state.h(0)\n",
    "    return state, basis\n",
    "\n"
   ]
  },
  {
   "cell_type": "code",
   "execution_count": 36,
   "id": "93dc047b-1500-4a3d-acba-4611f261050b",
   "metadata": {},
   "outputs": [],
   "source": [
    "#measures the quantum states with the appropriate basis and returns the measurement results\n",
    "def measure_bb84_states(states, bases):\n",
    "    measurements = []\n",
    "    for state, basis in zip(states, bases):\n",
    "        if basis == 0:\n",
    "            state.measure(0, 0)\n",
    "        else:\n",
    "            state.h(0)\n",
    "            state.measure(0, 0)\n",
    "        measurements.append(state)\n",
    "    return measurements\n",
    "\n",
    "\n"
   ]
  },
  {
   "cell_type": "code",
   "execution_count": 37,
   "id": "a66797bf-e0da-4b6b-94e3-28636442df16",
   "metadata": {},
   "outputs": [],
   "source": [
    "#sifts the keys by comparing Alice and Bob's measurement bases and bits. It checks if the measurement bases match (the same basis) and appends the corresponding bits to the sifted keys\n",
    "def sift_keys(alice_bases, bob_bases, alice_bits, bob_bits):\n",
    "    sifted_alice_bits = []\n",
    "    sifted_bob_bits = []\n",
    "    for a_basis, b_basis, a_bit, b_bit in zip(alice_bases, bob_bases, alice_bits, bob_bits):\n",
    "        if a_basis == b_basis:\n",
    "            sifted_alice_bits.append(a_bit)\n",
    "            sifted_bob_bits.append(b_bit)\n",
    "    return sifted_alice_bits, sifted_bob_bits\n",
    "\n"
   ]
  },
  {
   "cell_type": "code",
   "execution_count": 38,
   "id": "0207c551-80a7-436d-b21b-f7c4d3040419",
   "metadata": {},
   "outputs": [],
   "source": [
    "#calculates the error rate between Alice's and Bob's sifted bits\n",
    "def error_rate(alice_bits, bob_bits):\n",
    "    errors = sum([1 for a, b in zip(alice_bits, bob_bits) if a != b])\n",
    "    return errors / len(alice_bits)\n",
    "\n"
   ]
  },
  {
   "cell_type": "code",
   "execution_count": 39,
   "id": "3ce955d0-c359-47ea-9328-584b2e36aeb9",
   "metadata": {},
   "outputs": [
    {
     "name": "stdout",
     "output_type": "stream",
     "text": [
      "Sifted key length: 51\n",
      "Error rate: 0.23529411764705882\n",
      "Final secret key: [0, 1, 1, 0, 0, 0, 0, 1, 0, 1, 0, 0, 0, 1, 1, 0, 1, 1, 1, 0, 0, 0, 1, 0, 1, 0, 1, 0, 0, 1, 1, 1, 1, 1, 1, 1, 0, 1, 1, 1, 1, 1, 0, 1, 1, 0, 1, 1, 1, 1, 1]\n"
     ]
    }
   ],
   "source": [
    "# simulates the BB84 protocol\n",
    "num_qubits = 100\n",
    "num_qubits = 100\n",
    "alice_states, alice_bases = prepare_bb84_states(num_qubits)\n",
    "bob_bases = np.random.randint(2, size=num_qubits)\n",
    "bob_measurements = measure_bb84_states(alice_states, bob_bases)\n",
    "\n",
    "alice_bits = []\n",
    "for state in alice_states:\n",
    "    result = execute(state, Aer.get_backend('qasm_simulator')).result()\n",
    "    counts = result.get_counts(state)\n",
    "    max_count = max(counts, key=counts.get)\n",
    "    alice_bits.append(int(max_count))\n",
    "bob_bits = []\n",
    "for state in bob_measurements:\n",
    "    result = execute(state, Aer.get_backend('qasm_simulator')).result()\n",
    "    counts = result.get_counts(state)\n",
    "    max_count = max(counts, key=counts.get)\n",
    "    bob_bits.append(int(max_count))\n",
    "\n",
    "\n",
    "sifted_alice_bits, sifted_bob_bits = sift_keys(alice_bases, bob_bases, alice_bits, bob_bits)\n",
    "error = error_rate(sifted_alice_bits, sifted_bob_bits)\n",
    "final_key = privacy_amplification(sifted_alice_bits)\n",
    "\n",
    "print(\"Sifted key length:\", len(sifted_alice_bits))\n",
    "print(\"Error rate:\", error)\n",
    "print(\"Final secret key:\", final_key)"
   ]
  },
  {
   "cell_type": "code",
   "execution_count": null,
   "id": "d9929808-13d0-4d4a-b382-075a9dbd8df5",
   "metadata": {},
   "outputs": [],
   "source": []
  }
 ],
 "metadata": {
  "kernelspec": {
   "display_name": "Python 3 (ipykernel)",
   "language": "python",
   "name": "python3"
  },
  "language_info": {
   "codemirror_mode": {
    "name": "ipython",
    "version": 3
   },
   "file_extension": ".py",
   "mimetype": "text/x-python",
   "name": "python",
   "nbconvert_exporter": "python",
   "pygments_lexer": "ipython3",
   "version": "3.11.5"
  }
 },
 "nbformat": 4,
 "nbformat_minor": 5
}
